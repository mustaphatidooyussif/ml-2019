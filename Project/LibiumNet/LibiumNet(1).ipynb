{
  "nbformat": 4,
  "nbformat_minor": 0,
  "metadata": {
    "colab": {
      "name": "LibiumNet.ipynb",
      "version": "0.3.2",
      "provenance": [],
      "collapsed_sections": []
    },
    "kernelspec": {
      "name": "python3",
      "display_name": "Python 3"
    },
    "accelerator": "GPU"
  },
  "cells": [
    {
      "metadata": {
        "id": "-NKJhfg4ZpkT",
        "colab_type": "text"
      },
      "cell_type": "markdown",
      "source": [
        "#LibiumNet: Lip-Reading using RCNN"
      ]
    },
    {
      "metadata": {
        "id": "tkH0NM_xmmE7",
        "colab_type": "code",
        "outputId": "fff4b4fb-e658-40e9-e817-e14ae9a6ebbb",
        "colab": {
          "base_uri": "https://localhost:8080/",
          "height": 111
        }
      },
      "cell_type": "code",
      "source": [
        "\n",
        "import os, glob\n",
        "import imageio\n",
        "import itertools\n",
        "import math\n",
        "\n",
        "import numpy as np\n",
        "import pandas as pd\n",
        "import tensorflow as tf\n",
        "import matplotlib.pyplot as plt\n",
        "from tensorflow.keras.models import Model, Sequential\n",
        "from tensorflow.keras.layers import Dense, Activation, Dropout, Flatten, TimeDistributed, LSTM, Input, CuDNNLSTM, BatchNormalization, Conv2D, MaxPooling2D, Reshape, Conv1D, GlobalAveragePooling1D, MaxPooling1D, Lambda\n",
        "from tensorflow.keras.utils import to_categorical\n",
        "from tensorflow.keras.callbacks import ModelCheckpoint, ReduceLROnPlateau, EarlyStopping\n",
        "from tensorflow.keras.preprocessing.image import ImageDataGenerator\n",
        "\n",
        "import matplotlib.pyplot as plt\n",
        "\n",
        "imageio.plugins.ffmpeg.download()\n",
        "tf.enable_eager_execution()\n",
        "\n",
        "import warnings\n",
        "warnings.filterwarnings('ignore')"
      ],
      "execution_count": 0,
      "outputs": [
        {
          "output_type": "stream",
          "text": [
            "Imageio: 'ffmpeg-linux64-v3.3.1' was not found on your computer; downloading it now.\n",
            "Try 1. Download from https://github.com/imageio/imageio-binaries/raw/master/ffmpeg/ffmpeg-linux64-v3.3.1 (43.8 MB)\n",
            "Downloading: 8192/45929032 bytes (0.0%)\b\b\b\b\b\b\b\b\b\b\b\b\b\b\b\b\b\b\b\b\b\b\b\b\b\b4046848/45929032 bytes (8.8%)\b\b\b\b\b\b\b\b\b\b\b\b\b\b\b\b\b\b\b\b\b\b\b\b\b\b\b\b\b8224768/45929032 bytes (17.9%)\b\b\b\b\b\b\b\b\b\b\b\b\b\b\b\b\b\b\b\b\b\b\b\b\b\b\b\b\b\b12402688/45929032 bytes (27.0%)\b\b\b\b\b\b\b\b\b\b\b\b\b\b\b\b\b\b\b\b\b\b\b\b\b\b\b\b\b\b\b16531456/45929032 bytes (36.0%)\b\b\b\b\b\b\b\b\b\b\b\b\b\b\b\b\b\b\b\b\b\b\b\b\b\b\b\b\b\b\b20684800/45929032 bytes (45.0%)\b\b\b\b\b\b\b\b\b\b\b\b\b\b\b\b\b\b\b\b\b\b\b\b\b\b\b\b\b\b\b24764416/45929032 bytes (53.9%)\b\b\b\b\b\b\b\b\b\b\b\b\b\b\b\b\b\b\b\b\b\b\b\b\b\b\b\b\b\b\b28901376/45929032 bytes (62.9%)\b\b\b\b\b\b\b\b\b\b\b\b\b\b\b\b\b\b\b\b\b\b\b\b\b\b\b\b\b\b\b33095680/45929032 bytes (72.1%)\b\b\b\b\b\b\b\b\b\b\b\b\b\b\b\b\b\b\b\b\b\b\b\b\b\b\b\b\b\b\b37175296/45929032 bytes (80.9%)\b\b\b\b\b\b\b\b\b\b\b\b\b\b\b\b\b\b\b\b\b\b\b\b\b\b\b\b\b\b\b41336832/45929032 bytes (90.0%)\b\b\b\b\b\b\b\b\b\b\b\b\b\b\b\b\b\b\b\b\b\b\b\b\b\b\b\b\b\b\b45441024/45929032 bytes (98.9%)\b\b\b\b\b\b\b\b\b\b\b\b\b\b\b\b\b\b\b\b\b\b\b\b\b\b\b\b\b\b\b45929032/45929032 bytes (100.0%)\n",
            "  Done\n",
            "File saved as /root/.imageio/ffmpeg/ffmpeg-linux64-v3.3.1.\n"
          ],
          "name": "stdout"
        }
      ]
    },
    {
      "metadata": {
        "id": "_z6oXdzSrj4A",
        "colab_type": "code",
        "outputId": "4de8c327-985d-48b2-e586-ebcbc7e35af1",
        "colab": {
          "base_uri": "https://localhost:8080/",
          "height": 36
        }
      },
      "cell_type": "code",
      "source": [
        "tf.VERSION"
      ],
      "execution_count": 0,
      "outputs": [
        {
          "output_type": "execute_result",
          "data": {
            "text/plain": [
              "'1.13.1'"
            ]
          },
          "metadata": {
            "tags": []
          },
          "execution_count": 2
        }
      ]
    },
    {
      "metadata": {
        "id": "K13X7Hdg3Ktp",
        "colab_type": "code",
        "outputId": "c5403c56-c284-4e6d-bb55-89785137ae05",
        "colab": {
          "base_uri": "https://localhost:8080/",
          "height": 36
        }
      },
      "cell_type": "code",
      "source": [
        "device_name = tf.test.gpu_device_name()\n",
        "if device_name != '/device:GPU:0':\n",
        "  raise SystemError('GPU device not found')\n",
        "print('Found GPU at: {}'.format(device_name))"
      ],
      "execution_count": 0,
      "outputs": [
        {
          "output_type": "stream",
          "text": [
            "Found GPU at: /device:GPU:0\n"
          ],
          "name": "stdout"
        }
      ]
    },
    {
      "metadata": {
        "id": "R7_73zWRZHzw",
        "colab_type": "code",
        "outputId": "e4e05320-401b-47ad-f1aa-396d8437414a",
        "colab": {
          "base_uri": "https://localhost:8080/",
          "height": 131
        }
      },
      "cell_type": "code",
      "source": [
        "# mounting notebook to google drive\n",
        "from google.colab import drive\n",
        "drive.mount('/gdrive/')"
      ],
      "execution_count": 0,
      "outputs": [
        {
          "output_type": "stream",
          "text": [
            "Go to this URL in a browser: https://accounts.google.com/o/oauth2/auth?client_id=947318989803-6bn6qk8qdgf4n4g3pfee6491hc0brc4i.apps.googleusercontent.com&redirect_uri=urn%3Aietf%3Awg%3Aoauth%3A2.0%3Aoob&scope=email%20https%3A%2F%2Fwww.googleapis.com%2Fauth%2Fdocs.test%20https%3A%2F%2Fwww.googleapis.com%2Fauth%2Fdrive%20https%3A%2F%2Fwww.googleapis.com%2Fauth%2Fdrive.photos.readonly%20https%3A%2F%2Fwww.googleapis.com%2Fauth%2Fpeopleapi.readonly&response_type=code\n",
            "\n",
            "Enter your authorization code:\n",
            "··········\n",
            "Mounted at /gdrive/\n"
          ],
          "name": "stdout"
        }
      ]
    },
    {
      "metadata": {
        "id": "D-fZdjfygGXe",
        "colab_type": "code",
        "colab": {}
      },
      "cell_type": "code",
      "source": [
        "\n",
        "\"\"\"\n",
        "This model generates generator of the datasets for the Network. \n",
        "\n",
        "@authors : Mustapha Tidoo Yussif, Samuel Atule, Jean Sabastien Dovonon\n",
        "         and Nutifafa Amedior. \n",
        "\"\"\"\n",
        "IMAGE_HEIGHT = 256\n",
        "IMAGE_WIDTH = 256\n",
        "IMAGE_CHANNEL = 3\n",
        "NUM_FRAMES = 29\n",
        "NUM_CLASSES = 2\n",
        "        \n",
        "        \n",
        "class GenerateDataset(object):\n",
        "    \"\"\"Generates generator for the datasets\n",
        "    \n",
        "    This model generates a generator for the datasets. This done to efficiently \n",
        "    manage space.\n",
        "    \n",
        "    :param: file_path: path to files/videos.\n",
        "    :param directory: Path to the main directory.\n",
        "    \"\"\"\n",
        "    def __init__(self, file_path, directory, n_items):\n",
        "        self.n_items = n_items\n",
        "        self.directory = directory\n",
        "        self.file_path = file_path\n",
        "        self.num_samples = len(self.samples(self.get_video_files(self.file_path, self.directory)))\n",
        "        \n",
        "\n",
        "    def load_video(self, filename):\n",
        "        \"\"\"Loads the specified video using ffmpeg.\n",
        "\n",
        "        Returns:\n",
        "            List[FloatTensor]: the frames of the video as a list of 3D tensors\n",
        "                (channels, width, height)\"\"\"\n",
        "        \n",
        "        reader = imageio.get_reader(filename,  'ffmpeg')\n",
        "        \n",
        "        return np.array(list(reader), dtype=np.float32)\n",
        "    \n",
        "    def resize_frames(self, frames):\n",
        "        \"\"\"\n",
        "        Crops the frames of the videos around the mouth region.\n",
        "        This is the part that is most important part and relevant\n",
        "        to the model (where we can get the relevant features)\n",
        "\n",
        "        :param frames: The frames in the video. \n",
        "        :return: returns the croped frames.\n",
        "        \"\"\"\n",
        "        tf.image.resize_images(X, (IMAGE_SIZE, IMAGE_SIZE), \n",
        "                                    tf.image.ResizeMethod.NEAREST_NEIGHBOR) \n",
        "\n",
        "    def get_sample_size(self):\n",
        "      return self.num_samples\n",
        "    \n",
        "    \n",
        "    def create_df(self, file_path):\n",
        "        '''\n",
        "        creates pandas dataframe of labels and words directories\n",
        "        '''\n",
        "        \n",
        "        d = {}\n",
        "        y_labels = []\n",
        "        class_folders = []\n",
        "        for ind, clss in enumerate(os.listdir(file_path)):\n",
        "            y_labels.append(ind)\n",
        "            class_folders.append(clss)\n",
        "        \n",
        "        d['directory'] = class_folders\n",
        "        d['class'] = y_labels\n",
        "        print(d)\n",
        "        return pd.DataFrame(d)\n",
        "\n",
        "\n",
        "    def get_video_files(self, file_path, directory=None):\n",
        "        '''\n",
        "        get video files from word class directories\n",
        "        '''\n",
        "        d = {}\n",
        "        f = []\n",
        "        \n",
        "        for root, dirs, files in os.walk(file_path):\n",
        "            if root.split('/')[-1] == directory:\n",
        "                for file in files:\n",
        "                    if file.endswith(\".mp4\"):\n",
        "                        target_file = file.split('_')[0]\n",
        "                        f.append(target_file)\n",
        "                        if target_file not in d:\n",
        "                            d[target_file] = []\n",
        "                        d[target_file].append(os.path.join(root, file))\n",
        "                    \n",
        "        return d\n",
        "        \n",
        "    def generator(self, batch = 1):\n",
        "        \"\"\"Interfaces the private generator method\n",
        "\n",
        "        :param num_items_per_class: The number of items in a categority. \n",
        "        :param batch: The batch size.\n",
        "        \"\"\"\n",
        "        data = self.create_df(self.file_path)\n",
        "        video_files = self.get_video_files(self.file_path, self.directory)\n",
        "        return self._generator(data, directory = self.directory, video_files = video_files, BATCH_SIZE = batch)\n",
        "\n",
        "    def samples(self, video_files):\n",
        "      train = []\n",
        "      for key, value in video_files.items():\n",
        "        ind = 0\n",
        "        for file in value:\n",
        "          train.append(file)\n",
        "          ind+=1\n",
        "          if ind == self.n_items:\n",
        "            break\n",
        "          \n",
        "      return train\n",
        "    \n",
        "    def _generator(self, data, directory=None, video_files=None, BATCH_SIZE = 64):\n",
        "        \n",
        "        '''\n",
        "        retrieves the training batch for each iteration\n",
        "        '''\n",
        "        \n",
        "        train = []\n",
        "        for key, value in video_files.items():\n",
        "            ind = 0\n",
        "            for file in value:\n",
        "                train.append(file)\n",
        "                ind+=1\n",
        "                if ind == self.n_items:\n",
        "                  break\n",
        "                \n",
        "                  \n",
        "                \n",
        "        while True:\n",
        "            # Randomize the indices to make an array\n",
        "            indices_arr = np.random.permutation(len(train))\n",
        "            \n",
        "            for batch in range(0, len(indices_arr), BATCH_SIZE):\n",
        "                # slice out the current batch according to batch-size\n",
        "                current_batch = indices_arr[batch:(batch + BATCH_SIZE)]\n",
        "\n",
        "                # initializing the arrays, x_train and y_train\n",
        "                x_train = np.empty([0, NUM_FRAMES, IMAGE_HEIGHT, IMAGE_WIDTH, IMAGE_CHANNEL], dtype=np.float32)\n",
        "            \n",
        "                y_train = np.empty([0], dtype=np.int32)\n",
        "\n",
        "                for i in current_batch:\n",
        "                    # get an image and its corresponding color for an traffic light\n",
        "                    video_frames = self.load_video(train[i])\n",
        "                    \n",
        "                    \n",
        "                    #preprocess frames from videos\n",
        "#                     video_frames = tf.image.resize_nearest_neighbor(video_frames,(IMAGE_HEIGHT, IMAGE_WIDTH), )\n",
        "                    #video_frames = tf.image.rgb_to_grayscale(video_frames)\n",
        "#                     video_frames = tf.reshape(video_frames, (NUM_FRAMES, IMAGE_HEIGHT, IMAGE_WIDTH, IMAGE_CHANNEL))\n",
        "\n",
        "                    # Appending them to existing batch\n",
        "                    x_train = np.append(x_train, [video_frames/255], axis=0)\n",
        "                    y_train = np.append(y_train, [ data.loc[ data['directory'] == train[i].split('/')[-1].split('_')[-2] ].values[0][1] ])\n",
        "                    #print(data.loc[ data['directory'] == train[i].split('/')[-1].split('_')[-2] ].values[0][1])\n",
        "                    \n",
        "                \n",
        "                y_train = to_categorical(y_train, num_classes=NUM_CLASSES)\n",
        "\n",
        "                yield(x_train, y_train)\n",
        "        "
      ],
      "execution_count": 0,
      "outputs": []
    },
    {
      "metadata": {
        "id": "46N4_yDpA1Mc",
        "colab_type": "code",
        "outputId": "4a413eae-e831-4196-9763-756269a780bc",
        "colab": {
          "base_uri": "https://localhost:8080/",
          "height": 36
        }
      },
      "cell_type": "code",
      "source": [
        "gen = GenerateDataset('/gdrive/My Drive/LibiumNet/Lipread_mp4/', 'train', 2)\n",
        "datasets = gen.generator()\n"
      ],
      "execution_count": 0,
      "outputs": [
        {
          "output_type": "stream",
          "text": [
            "{'directory': ['HOSPITAL', 'LEADER'], 'class': [0, 1]}\n"
          ],
          "name": "stdout"
        }
      ]
    },
    {
      "metadata": {
        "id": "IeV-IN7ZY6U6",
        "colab_type": "code",
        "colab": {}
      },
      "cell_type": "code",
      "source": [
        "class LibiumNet(object):\n",
        "    \"\"\"TA lipreading model, `LibiunNet`\n",
        "    This is lip reading model which reads or predicts the words of a spoken mouth in a silent video. \n",
        "    This model implements the RCNN (Recurrent Convolutional Neural Network) architecture. \n",
        "\n",
        "    :param img_c: The number of channels of the input image. i.e. a frame in a video (default 3).\n",
        "    :param img_w: The width of the input image i.e. a frame in a video (default 256)\n",
        "    :param img_h: The height of the input image i.e. a frame in a video (default 256)\n",
        "    :param frames_n: The total number of frames in an input video (default 29)\n",
        "    :param output_size: The output size of the network. \n",
        "    \n",
        "    \"\"\"\n",
        "    def __init__(self, img_c=3, img_w=256, img_h=256, frames_n=29, output_size=10):\n",
        "        self.img_c = img_c\n",
        "        self.img_w = img_w\n",
        "        self.img_h = img_h\n",
        "        self.frames_n = frames_n\n",
        "        self.output_size = output_size\n",
        "        self.build()\n",
        "    \n",
        "    def build(self):\n",
        "        \"\"\"\n",
        "        Retrieves the features from the last pool layer in the densenet pretrained model \n",
        "        and pass obtained features to LSTM network. \n",
        "        \"\"\"\n",
        "        input_shape = (self.frames_n, self.img_w, self.img_h, self.img_c) # input shape\n",
        "\n",
        "        \n",
        "        \n",
        "        \n",
        "        \n",
        "        \n",
        "        feature_extractor = Sequential()\n",
        "        inputShape = (self.img_w, self.img_h, self.img_c)\n",
        "        chanDim = -1\n",
        "        \n",
        "        feature_extractor.add(Lambda(lambda x: tf.keras.backend.mean(x, axis=3, keepdims=True), input_shape=inputShape))\n",
        "        feature_extractor.add(MaxPooling2D(pool_size=(2, 2)))\n",
        "        \n",
        "        # first CONV => RELU => CONV => RELU => POOL layer set\n",
        "        \n",
        "        feature_extractor.add(Conv2D(32, (3, 3)))\n",
        "        feature_extractor.add(Activation(\"relu\"))\n",
        "        feature_extractor.add(BatchNormalization(axis=chanDim))\n",
        "        feature_extractor.add(Conv2D(32, (3, 3)))\n",
        "        feature_extractor.add(Activation(\"relu\"))\n",
        "        feature_extractor.add(BatchNormalization(axis=chanDim))\n",
        "        feature_extractor.add(MaxPooling2D(pool_size=(2, 2)))\n",
        "        feature_extractor.add(Dropout(0.25))\n",
        "        \n",
        "        # second CONV => RELU => CONV => RELU => POOL layer set\n",
        "        feature_extractor.add(Conv2D(64, (3, 3)))\n",
        "        feature_extractor.add(Activation(\"relu\"))\n",
        "        feature_extractor.add(BatchNormalization(axis=chanDim))\n",
        "        feature_extractor.add(Conv2D(64, (3, 3)))\n",
        "        feature_extractor.add(Activation(\"relu\"))\n",
        "        feature_extractor.add(BatchNormalization(axis=chanDim))\n",
        "        feature_extractor.add(MaxPooling2D(pool_size=(2, 2)))\n",
        "        feature_extractor.add(Dropout(0.25))\n",
        "        \n",
        "        \n",
        "        TIME_PERIODS = self.frames_n\n",
        "        dims = 53824\n",
        "\n",
        "        model_m = Sequential()\n",
        "        model_m.add(Conv1D(10, 2, activation='relu', input_shape=(TIME_PERIODS, dims)))\n",
        "        model_m.add(Conv1D(10, 2, activation='relu'))\n",
        "        #model_m.add(MaxPooling1D(3))\n",
        "        #model_m.add(Conv1D(10, 3, activation='relu'))\n",
        "        #model_m.add(Conv1D(10, 3, activation='relu'))\n",
        "        #model_m.add(GlobalAveragePooling1D())\n",
        "        #model_m.add(Dropout(0.5))\n",
        "        \n",
        "        \n",
        "        self.input_data = Input(name='the_input', shape=input_shape, dtype='float32')\n",
        "        self.image_frame_features = TimeDistributed(feature_extractor)(self.input_data) ## extracting the features from the images\n",
        "        \n",
        "        self.flat = TimeDistributed(Flatten())(self.image_frame_features) ## flatten before passing on to the recurrent network\n",
        "\n",
        "        self.sequence1 = model_m(self.flat)\n",
        "        self.sequence = CuDNNLSTM(16)(self.sequence1) \n",
        "        \n",
        "        self.dense3 = Dense(10, activation='relu')(self.sequence)\n",
        "        self.dense2 = Dense(10, activation='relu')(self.dense3)\n",
        "        self.dense = Dense(self.output_size, name='logits')(self.dense2)\n",
        "\n",
        "        self.pred = Activation('softmax', name='softmax')(self.dense)\n",
        "\n",
        "\n",
        "        self.model = Model(inputs = self.input_data, outputs=self.pred)\n",
        "\n",
        "\n",
        "    def summary(self):\n",
        "        \"\"\"\"Summarizes the architecture of the model.\n",
        "        \n",
        "        :return: returns the model architecture summary\n",
        "        \"\"\"\n",
        "        return self.model.summary()\n",
        "      \n",
        "    \n",
        "    def train(self, generator,steps_per_epoch=None, epochs=1,validation_data=None, validation_steps=None, filepath=\"/gdrive/My Drive/LibiumNet/checkpoint.h5\"):\n",
        "        # Callbacks\n",
        "        early_stopping_monitor = EarlyStopping(patience=3)\n",
        "        checkpoint = ModelCheckpoint(\n",
        "                            filepath, monitor='val_acc', verbose=1, \n",
        "                            save_best_only=True, mode='max'\n",
        "                    )\n",
        "        \n",
        "        reduce_lr = ReduceLROnPlateau(\n",
        "                            monitor='val_loss', factor=0.2,\n",
        "                              patience=7, min_lr=1e-9\n",
        "                    )\n",
        "        \n",
        "        callbacks_list = [checkpoint, reduce_lr, early_stopping_monitor]\n",
        "\n",
        "        \n",
        "        print('Training...')\n",
        "        \n",
        "        self.model.compile(\n",
        "              optimizer=tf.keras.optimizers.SGD(lr=1e-4, momentum=0.9),\n",
        "              loss='categorical_crossentropy',\n",
        "              metrics=['accuracy']\n",
        "        )\n",
        "        \n",
        "        history = self.model.fit_generator(generator, steps_per_epoch=steps_per_epoch, epochs=epochs, validation_data=validation_data, validation_steps = validation_steps)\n",
        "        \n",
        "        #self.visualize_accuracy(history)\n",
        "        self.visualize_loss(history)\n",
        "      \n",
        "      \n",
        "    def predict(self, input_batch):\n",
        "        \"\"\"Predicts a video\n",
        "        \n",
        "        :param input_batch: A batch of a sequence of frames. \n",
        "        :return: returns the predicted probailities\n",
        "        \"\"\"\n",
        "        return self.model(input_batch)\n",
        "      \n",
        "    def visualize_accuracy(self, history):\n",
        "      \"\"\"Visualize model accuracy\n",
        "      \"\"\"\n",
        "      plt.plot(history.history['acc'], label='training accuracy')\n",
        "      plt.plot(history.history['val_acc'], label='testing accuracy')\n",
        "      plt.title('Accuracy')\n",
        "      plt.xlabel('epochs')\n",
        "      plt.ylabel('accuracy')\n",
        "      plt.legend()\n",
        "      \n",
        "    def visualize_loss(self, history):\n",
        "      \"\"\"Visualizes model loss\"\"\"\n",
        "      plt.plot(history.history['loss'], label='training loss')\n",
        "      plt.plot(history.history['val_loss'], label='testing loss')\n",
        "      plt.title('Loss')\n",
        "      plt.xlabel('epochs')\n",
        "      plt.ylabel('loss')\n",
        "      plt.legend()"
      ],
      "execution_count": 0,
      "outputs": []
    },
    {
      "metadata": {
        "id": "KorXcvrLh229",
        "colab_type": "code",
        "outputId": "e164814e-a81c-4ae4-d786-008806ceceab",
        "colab": {
          "base_uri": "https://localhost:8080/",
          "height": 485
        }
      },
      "cell_type": "code",
      "source": [
        "model = LibiumNet(output_size=2)\n",
        "model.summary()"
      ],
      "execution_count": 0,
      "outputs": [
        {
          "output_type": "stream",
          "text": [
            "_________________________________________________________________\n",
            "Layer (type)                 Output Shape              Param #   \n",
            "=================================================================\n",
            "the_input (InputLayer)       (None, 29, 256, 256, 3)   0         \n",
            "_________________________________________________________________\n",
            "time_distributed_6 (TimeDist (None, 29, 29, 29, 64)    65760     \n",
            "_________________________________________________________________\n",
            "time_distributed_7 (TimeDist (None, 29, 53824)         0         \n",
            "_________________________________________________________________\n",
            "sequential_7 (Sequential)    (None, 27, 10)            1076700   \n",
            "_________________________________________________________________\n",
            "cu_dnnlstm_3 (CuDNNLSTM)     (None, 16)                1792      \n",
            "_________________________________________________________________\n",
            "dense_4 (Dense)              (None, 10)                170       \n",
            "_________________________________________________________________\n",
            "dense_5 (Dense)              (None, 10)                110       \n",
            "_________________________________________________________________\n",
            "logits (Dense)               (None, 2)                 22        \n",
            "_________________________________________________________________\n",
            "softmax (Activation)         (None, 2)                 0         \n",
            "=================================================================\n",
            "Total params: 1,144,554\n",
            "Trainable params: 1,144,170\n",
            "Non-trainable params: 384\n",
            "_________________________________________________________________\n"
          ],
          "name": "stdout"
        }
      ]
    },
    {
      "metadata": {
        "id": "gE_yz0glgYMS",
        "colab_type": "code",
        "outputId": "679b94eb-9e2c-439e-a37f-afb41c1d879e",
        "colab": {
          "base_uri": "https://localhost:8080/",
          "height": 73
        }
      },
      "cell_type": "code",
      "source": [
        "gen = GenerateDataset('/gdrive/My Drive/LibiumNet/Lipread_mp4/', 'train',100)\n",
        "#gen = GenerateDataset('/gdrive/My Drive/LibiumNet/overfit_test/', 'train')\n",
        "datasets = gen.generator()\n",
        "num_samples = gen.get_sample_size()\n",
        "steps_per_epoch = math.ceil(num_samples / 2)\n",
        "\n",
        "# validation\n",
        "val_gen = GenerateDataset('/gdrive/My Drive/LibiumNet/Lipread_mp4/', 'val',20)\n",
        "#val_gen = GenerateDataset('/gdrive/My Drive/LibiumNet/overfit_test/', 'train')\n",
        "val_datasets = val_gen.generator()\n",
        "num_valid_samples = val_gen.get_sample_size()\n",
        "steps_per_valid_epoch = math.ceil(num_valid_samples / 2)\n",
        "\n",
        "num_samples"
      ],
      "execution_count": 0,
      "outputs": [
        {
          "output_type": "stream",
          "text": [
            "{'directory': ['HOSPITAL', 'LEADER'], 'class': [0, 1]}\n",
            "{'directory': ['HOSPITAL', 'LEADER'], 'class': [0, 1]}\n"
          ],
          "name": "stdout"
        },
        {
          "output_type": "execute_result",
          "data": {
            "text/plain": [
              "200"
            ]
          },
          "metadata": {
            "tags": []
          },
          "execution_count": 20
        }
      ]
    },
    {
      "metadata": {
        "id": "u-jhq3Q6d6TZ",
        "colab_type": "code",
        "outputId": "7b6713c1-4a8e-48f6-f56f-d51488ce2f58",
        "colab": {
          "base_uri": "https://localhost:8080/",
          "height": 1716
        }
      },
      "cell_type": "code",
      "source": [
        " # training \n",
        "\n",
        "\n",
        "model.train(datasets, steps_per_epoch = steps_per_epoch, epochs=25,validation_data=val_datasets, validation_steps=steps_per_valid_epoch)\n",
        "#model.model.save('/gdrive/My Drive/LibiumNet/libium-500-60-L3.h5')"
      ],
      "execution_count": 0,
      "outputs": [
        {
          "output_type": "stream",
          "text": [
            "Training...\n",
            "Epoch 1/25\n",
            "20/20 [==============================] - 7s 365ms/step - loss: 0.6930 - acc: 0.5000\n",
            "100/100 [==============================] - 42s 421ms/step - loss: 0.6978 - acc: 0.5200 - val_loss: 0.6930 - val_acc: 0.5000\n",
            "Epoch 2/25\n",
            "20/20 [==============================] - 7s 366ms/step - loss: 0.6915 - acc: 0.5500\n",
            "100/100 [==============================] - 39s 390ms/step - loss: 0.6941 - acc: 0.4300 - val_loss: 0.6915 - val_acc: 0.5500\n",
            "Epoch 3/25\n",
            "20/20 [==============================] - 7s 356ms/step - loss: 0.6935 - acc: 0.5000\n",
            "100/100 [==============================] - 39s 386ms/step - loss: 0.6937 - acc: 0.5600 - val_loss: 0.6935 - val_acc: 0.5000\n",
            "Epoch 4/25\n",
            "20/20 [==============================] - 7s 351ms/step - loss: 0.6920 - acc: 0.5500\n",
            "100/100 [==============================] - 38s 384ms/step - loss: 0.6913 - acc: 0.5500 - val_loss: 0.6920 - val_acc: 0.5500\n",
            "Epoch 5/25\n",
            "20/20 [==============================] - 7s 351ms/step - loss: 0.6954 - acc: 0.4500\n",
            "100/100 [==============================] - 38s 383ms/step - loss: 0.6926 - acc: 0.5700 - val_loss: 0.6954 - val_acc: 0.4500\n",
            "Epoch 6/25\n",
            "20/20 [==============================] - 7s 353ms/step - loss: 0.6890 - acc: 0.6000\n",
            "100/100 [==============================] - 39s 386ms/step - loss: 0.6921 - acc: 0.5500 - val_loss: 0.6890 - val_acc: 0.6000\n",
            "Epoch 7/25\n",
            "20/20 [==============================] - 7s 354ms/step - loss: 0.6946 - acc: 0.4500\n",
            "100/100 [==============================] - 38s 379ms/step - loss: 0.6871 - acc: 0.6900 - val_loss: 0.6946 - val_acc: 0.4500\n",
            "Epoch 8/25\n",
            "20/20 [==============================] - 7s 359ms/step - loss: 0.6915 - acc: 0.5500\n",
            "100/100 [==============================] - 40s 396ms/step - loss: 0.6873 - acc: 0.6100 - val_loss: 0.6915 - val_acc: 0.5500\n",
            "Epoch 9/25\n",
            "20/20 [==============================] - 7s 361ms/step - loss: 0.6932 - acc: 0.5000\n",
            "100/100 [==============================] - 39s 387ms/step - loss: 0.6756 - acc: 0.5800 - val_loss: 0.6932 - val_acc: 0.5000\n",
            "Epoch 10/25\n",
            "20/20 [==============================] - 7s 370ms/step - loss: 0.7032 - acc: 0.3000\n",
            "100/100 [==============================] - 39s 393ms/step - loss: 0.6826 - acc: 0.6100 - val_loss: 0.7032 - val_acc: 0.3000\n",
            "Epoch 11/25\n",
            "20/20 [==============================] - 7s 360ms/step - loss: 0.6885 - acc: 0.6500\n",
            "100/100 [==============================] - 39s 386ms/step - loss: 0.6735 - acc: 0.6300 - val_loss: 0.6885 - val_acc: 0.6500\n",
            "Epoch 12/25\n",
            "20/20 [==============================] - 7s 362ms/step - loss: 0.6913 - acc: 0.5500\n",
            "100/100 [==============================] - 38s 384ms/step - loss: 0.6673 - acc: 0.6600 - val_loss: 0.6913 - val_acc: 0.5500\n",
            "Epoch 13/25\n",
            "20/20 [==============================] - 7s 359ms/step - loss: 0.6969 - acc: 0.4500\n",
            "100/100 [==============================] - 38s 384ms/step - loss: 0.6522 - acc: 0.7500 - val_loss: 0.6969 - val_acc: 0.4500\n",
            "Epoch 14/25\n",
            "20/20 [==============================] - 7s 373ms/step - loss: 0.7012 - acc: 0.4000\n",
            "100/100 [==============================] - 39s 390ms/step - loss: 0.6293 - acc: 0.7500 - val_loss: 0.7012 - val_acc: 0.4000\n",
            "Epoch 15/25\n",
            "20/20 [==============================] - 7s 356ms/step - loss: 0.6933 - acc: 0.5000\n",
            "100/100 [==============================] - 38s 384ms/step - loss: 0.6097 - acc: 0.7800 - val_loss: 0.6933 - val_acc: 0.5000\n",
            "Epoch 16/25\n",
            "20/20 [==============================] - 7s 362ms/step - loss: 0.6835 - acc: 0.6500\n",
            "100/100 [==============================] - 39s 385ms/step - loss: 0.6053 - acc: 0.8100 - val_loss: 0.6835 - val_acc: 0.6500\n",
            "Epoch 17/25\n",
            "20/20 [==============================] - 7s 365ms/step - loss: 0.7029 - acc: 0.4000\n",
            "100/100 [==============================] - 39s 391ms/step - loss: 0.5599 - acc: 0.8900 - val_loss: 0.7029 - val_acc: 0.4000\n",
            "Epoch 18/25\n",
            "20/20 [==============================] - 7s 362ms/step - loss: 0.6892 - acc: 0.6000\n",
            "100/100 [==============================] - 39s 388ms/step - loss: 0.6198 - acc: 0.6600 - val_loss: 0.6892 - val_acc: 0.6000\n",
            "Epoch 19/25\n",
            "20/20 [==============================] - 7s 361ms/step - loss: 0.6949 - acc: 0.3500\n",
            "100/100 [==============================] - 39s 390ms/step - loss: 0.6181 - acc: 0.7400 - val_loss: 0.6949 - val_acc: 0.3500\n",
            "Epoch 20/25\n",
            "20/20 [==============================] - 7s 352ms/step - loss: 0.6877 - acc: 0.6500\n",
            "100/100 [==============================] - 38s 383ms/step - loss: 0.5810 - acc: 0.7800 - val_loss: 0.6877 - val_acc: 0.6500\n",
            "Epoch 21/25\n",
            "20/20 [==============================] - 7s 358ms/step - loss: 0.6964 - acc: 0.4000\n",
            "100/100 [==============================] - 39s 389ms/step - loss: 0.5150 - acc: 0.8800 - val_loss: 0.6964 - val_acc: 0.4000\n",
            "Epoch 22/25\n",
            "20/20 [==============================] - 7s 363ms/step - loss: 0.6924 - acc: 0.5500\n",
            "100/100 [==============================] - 39s 389ms/step - loss: 0.5176 - acc: 0.8200 - val_loss: 0.6924 - val_acc: 0.5500\n",
            "Epoch 23/25\n",
            "20/20 [==============================] - 7s 355ms/step - loss: 0.6933 - acc: 0.5500\n",
            "100/100 [==============================] - 39s 392ms/step - loss: 0.4588 - acc: 0.8900 - val_loss: 0.6933 - val_acc: 0.5500\n",
            "Epoch 24/25\n",
            "20/20 [==============================] - 7s 366ms/step - loss: 0.6885 - acc: 0.6500\n",
            "100/100 [==============================] - 39s 388ms/step - loss: 0.4451 - acc: 0.9000 - val_loss: 0.6885 - val_acc: 0.6500\n",
            "Epoch 25/25\n",
            "20/20 [==============================] - 7s 358ms/step - loss: 0.6981 - acc: 0.3500\n",
            "100/100 [==============================] - 39s 387ms/step - loss: 0.3760 - acc: 0.9500 - val_loss: 0.6981 - val_acc: 0.3500\n"
          ],
          "name": "stdout"
        },
        {
          "output_type": "display_data",
          "data": {
            "image/png": "[encoded data removed]",
            "text/plain": [
              "<Figure size 432x288 with 1 Axes>"
            ]
          },
          "metadata": {
            "tags": []
          }
        }
      ]
    },
    {
      "metadata": {
        "id": "g7pFUnVHKtiF",
        "colab_type": "code",
        "outputId": "66a26818-64e7-4f7a-dff3-5887757bc188",
        "colab": {
          "base_uri": "https://localhost:8080/",
          "height": 408
        }
      },
      "cell_type": "code",
      "source": [
        "model.model.save('/gdrive/My Drive/LibiumNet/libium-100-20-LSTM2.h5')"
      ],
      "execution_count": 0,
      "outputs": [
        {
          "output_type": "error",
          "ename": "RuntimeError",
          "evalue": "ignored",
          "traceback": [
            "\u001b[0;31m---------------------------------------------------------------------------\u001b[0m",
            "\u001b[0;31mRuntimeError\u001b[0m                              Traceback (most recent call last)",
            "\u001b[0;32m<ipython-input-19-6ffed9f2460b>\u001b[0m in \u001b[0;36m<module>\u001b[0;34m()\u001b[0m\n\u001b[0;32m----> 1\u001b[0;31m \u001b[0mmodel\u001b[0m\u001b[0;34m.\u001b[0m\u001b[0mmodel\u001b[0m\u001b[0;34m.\u001b[0m\u001b[0msave\u001b[0m\u001b[0;34m(\u001b[0m\u001b[0;34m'/gdrive/My Drive/LibiumNet/libium-100-20-LSTM2.h5'\u001b[0m\u001b[0;34m)\u001b[0m\u001b[0;34m\u001b[0m\u001b[0;34m\u001b[0m\u001b[0m\n\u001b[0m",
            "\u001b[0;32m/usr/local/lib/python3.6/dist-packages/tensorflow/python/keras/engine/network.py\u001b[0m in \u001b[0;36msave\u001b[0;34m(self, filepath, overwrite, include_optimizer)\u001b[0m\n\u001b[1;32m   1332\u001b[0m \u001b[0;34m\u001b[0m\u001b[0m\n\u001b[1;32m   1333\u001b[0m     \u001b[0;32mfrom\u001b[0m \u001b[0mtensorflow\u001b[0m\u001b[0;34m.\u001b[0m\u001b[0mpython\u001b[0m\u001b[0;34m.\u001b[0m\u001b[0mkeras\u001b[0m\u001b[0;34m.\u001b[0m\u001b[0mmodels\u001b[0m \u001b[0;32mimport\u001b[0m \u001b[0msave_model\u001b[0m  \u001b[0;31m# pylint: disable=g-import-not-at-top\u001b[0m\u001b[0;34m\u001b[0m\u001b[0;34m\u001b[0m\u001b[0m\n\u001b[0;32m-> 1334\u001b[0;31m     \u001b[0msave_model\u001b[0m\u001b[0;34m(\u001b[0m\u001b[0mself\u001b[0m\u001b[0;34m,\u001b[0m \u001b[0mfilepath\u001b[0m\u001b[0;34m,\u001b[0m \u001b[0moverwrite\u001b[0m\u001b[0;34m,\u001b[0m \u001b[0minclude_optimizer\u001b[0m\u001b[0;34m)\u001b[0m\u001b[0;34m\u001b[0m\u001b[0;34m\u001b[0m\u001b[0m\n\u001b[0m\u001b[1;32m   1335\u001b[0m \u001b[0;34m\u001b[0m\u001b[0m\n\u001b[1;32m   1336\u001b[0m   \u001b[0;32mdef\u001b[0m \u001b[0msave_weights\u001b[0m\u001b[0;34m(\u001b[0m\u001b[0mself\u001b[0m\u001b[0;34m,\u001b[0m \u001b[0mfilepath\u001b[0m\u001b[0;34m,\u001b[0m \u001b[0moverwrite\u001b[0m\u001b[0;34m=\u001b[0m\u001b[0;32mTrue\u001b[0m\u001b[0;34m,\u001b[0m \u001b[0msave_format\u001b[0m\u001b[0;34m=\u001b[0m\u001b[0;32mNone\u001b[0m\u001b[0;34m)\u001b[0m\u001b[0;34m:\u001b[0m\u001b[0;34m\u001b[0m\u001b[0;34m\u001b[0m\u001b[0m\n",
            "\u001b[0;32m/usr/local/lib/python3.6/dist-packages/tensorflow/python/keras/engine/saving.py\u001b[0m in \u001b[0;36msave_model\u001b[0;34m(model, filepath, overwrite, include_optimizer)\u001b[0m\n\u001b[1;32m    150\u001b[0m           \u001b[0;32mfor\u001b[0m \u001b[0mname\u001b[0m\u001b[0;34m,\u001b[0m \u001b[0mval\u001b[0m \u001b[0;32min\u001b[0m \u001b[0mzip\u001b[0m\u001b[0;34m(\u001b[0m\u001b[0mweight_names\u001b[0m\u001b[0;34m,\u001b[0m \u001b[0mweight_values\u001b[0m\u001b[0;34m)\u001b[0m\u001b[0;34m:\u001b[0m\u001b[0;34m\u001b[0m\u001b[0;34m\u001b[0m\u001b[0m\n\u001b[1;32m    151\u001b[0m             param_dset = optimizer_weights_group.create_dataset(\n\u001b[0;32m--> 152\u001b[0;31m                 name, val.shape, dtype=val.dtype)\n\u001b[0m\u001b[1;32m    153\u001b[0m             \u001b[0;32mif\u001b[0m \u001b[0;32mnot\u001b[0m \u001b[0mval\u001b[0m\u001b[0;34m.\u001b[0m\u001b[0mshape\u001b[0m\u001b[0;34m:\u001b[0m\u001b[0;34m\u001b[0m\u001b[0;34m\u001b[0m\u001b[0m\n\u001b[1;32m    154\u001b[0m               \u001b[0;31m# scalar\u001b[0m\u001b[0;34m\u001b[0m\u001b[0;34m\u001b[0m\u001b[0;34m\u001b[0m\u001b[0m\n",
            "\u001b[0;32m/usr/local/lib/python3.6/dist-packages/h5py/_hl/group.py\u001b[0m in \u001b[0;36mcreate_dataset\u001b[0;34m(self, name, shape, dtype, data, **kwds)\u001b[0m\n\u001b[1;32m    117\u001b[0m             \u001b[0mdset\u001b[0m \u001b[0;34m=\u001b[0m \u001b[0mdataset\u001b[0m\u001b[0;34m.\u001b[0m\u001b[0mDataset\u001b[0m\u001b[0;34m(\u001b[0m\u001b[0mdsid\u001b[0m\u001b[0;34m)\u001b[0m\u001b[0;34m\u001b[0m\u001b[0;34m\u001b[0m\u001b[0m\n\u001b[1;32m    118\u001b[0m             \u001b[0;32mif\u001b[0m \u001b[0mname\u001b[0m \u001b[0;32mis\u001b[0m \u001b[0;32mnot\u001b[0m \u001b[0;32mNone\u001b[0m\u001b[0;34m:\u001b[0m\u001b[0;34m\u001b[0m\u001b[0;34m\u001b[0m\u001b[0m\n\u001b[0;32m--> 119\u001b[0;31m                 \u001b[0mself\u001b[0m\u001b[0;34m[\u001b[0m\u001b[0mname\u001b[0m\u001b[0;34m]\u001b[0m \u001b[0;34m=\u001b[0m \u001b[0mdset\u001b[0m\u001b[0;34m\u001b[0m\u001b[0;34m\u001b[0m\u001b[0m\n\u001b[0m\u001b[1;32m    120\u001b[0m             \u001b[0;32mreturn\u001b[0m \u001b[0mdset\u001b[0m\u001b[0;34m\u001b[0m\u001b[0;34m\u001b[0m\u001b[0m\n\u001b[1;32m    121\u001b[0m \u001b[0;34m\u001b[0m\u001b[0m\n",
            "\u001b[0;32m/usr/local/lib/python3.6/dist-packages/h5py/_hl/group.py\u001b[0m in \u001b[0;36m__setitem__\u001b[0;34m(self, name, obj)\u001b[0m\n\u001b[1;32m    285\u001b[0m \u001b[0;34m\u001b[0m\u001b[0m\n\u001b[1;32m    286\u001b[0m             \u001b[0;32mif\u001b[0m \u001b[0misinstance\u001b[0m\u001b[0;34m(\u001b[0m\u001b[0mobj\u001b[0m\u001b[0;34m,\u001b[0m \u001b[0mHLObject\u001b[0m\u001b[0;34m)\u001b[0m\u001b[0;34m:\u001b[0m\u001b[0;34m\u001b[0m\u001b[0;34m\u001b[0m\u001b[0m\n\u001b[0;32m--> 287\u001b[0;31m                 \u001b[0mh5o\u001b[0m\u001b[0;34m.\u001b[0m\u001b[0mlink\u001b[0m\u001b[0;34m(\u001b[0m\u001b[0mobj\u001b[0m\u001b[0;34m.\u001b[0m\u001b[0mid\u001b[0m\u001b[0;34m,\u001b[0m \u001b[0mself\u001b[0m\u001b[0;34m.\u001b[0m\u001b[0mid\u001b[0m\u001b[0;34m,\u001b[0m \u001b[0mname\u001b[0m\u001b[0;34m,\u001b[0m \u001b[0mlcpl\u001b[0m\u001b[0;34m=\u001b[0m\u001b[0mlcpl\u001b[0m\u001b[0;34m,\u001b[0m \u001b[0mlapl\u001b[0m\u001b[0;34m=\u001b[0m\u001b[0mself\u001b[0m\u001b[0;34m.\u001b[0m\u001b[0m_lapl\u001b[0m\u001b[0;34m)\u001b[0m\u001b[0;34m\u001b[0m\u001b[0;34m\u001b[0m\u001b[0m\n\u001b[0m\u001b[1;32m    288\u001b[0m \u001b[0;34m\u001b[0m\u001b[0m\n\u001b[1;32m    289\u001b[0m             \u001b[0;32melif\u001b[0m \u001b[0misinstance\u001b[0m\u001b[0;34m(\u001b[0m\u001b[0mobj\u001b[0m\u001b[0;34m,\u001b[0m \u001b[0mSoftLink\u001b[0m\u001b[0;34m)\u001b[0m\u001b[0;34m:\u001b[0m\u001b[0;34m\u001b[0m\u001b[0;34m\u001b[0m\u001b[0m\n",
            "\u001b[0;32mh5py/_objects.pyx\u001b[0m in \u001b[0;36mh5py._objects.with_phil.wrapper\u001b[0;34m()\u001b[0m\n",
            "\u001b[0;32mh5py/_objects.pyx\u001b[0m in \u001b[0;36mh5py._objects.with_phil.wrapper\u001b[0;34m()\u001b[0m\n",
            "\u001b[0;32mh5py/h5o.pyx\u001b[0m in \u001b[0;36mh5py.h5o.link\u001b[0;34m()\u001b[0m\n",
            "\u001b[0;31mRuntimeError\u001b[0m: Unable to create link (name already exists)"
          ]
        }
      ]
    },
    {
      "metadata": {
        "id": "hoAGsgNL7hC5",
        "colab_type": "code",
        "colab": {}
      },
      "cell_type": "code",
      "source": [
        "gen = GenerateDataset('/gdrive/My Drive/LibiumNet/Lipread_mp4/', 'train')\n",
        "#gen = GenerateDataset('/gdrive/My Drive/LibiumNet/overfit_test/', 'train')\n",
        "datasets = gen.generator()\n",
        "num_samples = gen.get_sample_size()\n",
        "\n",
        "# validation\n",
        "val_gen = GenerateDataset('/gdrive/My Drive/LibiumNet/Lipread_mp4/', 'val')\n",
        "#val_gen = val_gen.generator()\n",
        "#val_gen = GenerateDataset('/gdrive/My Drive/LibiumNet/overfit_test/', 'test')\n",
        "val_gen = val_gen.generator()\n",
        "\n",
        "model.train(datasets, steps_per_epoch = steps_per_epoch, epochs=10,validation_data=val_gen, validation_steps=steps_per_epoch)\n",
        "model.model.save('/gdrive/My Drive/LibiumNet/libium-0-4.h5')"
      ],
      "execution_count": 0,
      "outputs": []
    },
    {
      "metadata": {
        "id": "DEi_OTFs7rUa",
        "colab_type": "code",
        "colab": {}
      },
      "cell_type": "code",
      "source": [
        "gen = GenerateDataset('/gdrive/My Drive/LibiumNet/Lipread_mp4/', 'train')\n",
        "#gen = GenerateDataset('/gdrive/My Drive/LibiumNet/overfit_test/', 'train')\n",
        "datasets = gen.generator()\n",
        "num_samples = gen.get_sample_size()\n",
        "\n",
        "# validation\n",
        "val_gen = GenerateDataset('/gdrive/My Drive/LibiumNet/Lipread_mp4/', 'val')\n",
        "#val_gen = val_gen.generator()\n",
        "#val_gen = GenerateDataset('/gdrive/My Drive/LibiumNet/overfit_test/', 'test')\n",
        "val_gen = val_gen.generator()\n",
        "\n",
        "model.train(datasets, steps_per_epoch = steps_per_epoch, epochs=10,validation_data=val_gen, validation_steps=steps_per_epoch)\n",
        "model.model.save('/gdrive/My Drive/LibiumNet/libium-0-5.h5')"
      ],
      "execution_count": 0,
      "outputs": []
    },
    {
      "metadata": {
        "id": "Yy9Urc_b7tj_",
        "colab_type": "code",
        "colab": {}
      },
      "cell_type": "code",
      "source": [
        "gen = GenerateDataset('/gdrive/My Drive/LibiumNet/Lipread_mp4/', 'train')\n",
        "#gen = GenerateDataset('/gdrive/My Drive/LibiumNet/overfit_test/', 'train')\n",
        "datasets = gen.generator()\n",
        "num_samples = gen.get_sample_size()\n",
        "\n",
        "# validation\n",
        "val_gen = GenerateDataset('/gdrive/My Drive/LibiumNet/Lipread_mp4/', 'val')\n",
        "#val_gen = val_gen.generator()\n",
        "#val_gen = GenerateDataset('/gdrive/My Drive/LibiumNet/overfit_test/', 'test')\n",
        "val_gen = val_gen.generator()\n",
        "\n",
        "model.train(datasets, steps_per_epoch = steps_per_epoch, epochs=10,validation_data=val_gen, validation_steps=steps_per_epoch)\n",
        "model.model.save('/gdrive/My Drive/LibiumNet/libium-0-6.h5')"
      ],
      "execution_count": 0,
      "outputs": []
    },
    {
      "metadata": {
        "id": "kjfslS1lpx6u",
        "colab_type": "code",
        "outputId": "14ba0b45-a523-4c5b-9d16-e741374b9740",
        "colab": {
          "base_uri": "https://localhost:8080/",
          "height": 550
        }
      },
      "cell_type": "code",
      "source": [
        "#model = LibiumNet(output_size=2)\n",
        "gen = GenerateDataset('/gdrive/My Drive/LibiumNet/Lipread_mp4/', 'train')\n",
        "datasets = gen.generator()\n",
        "print(model.model.predict(next(datasets)))\n",
        "print(model.model.predict(next(datasets)))\n",
        "print(model.model.predict(next(datasets)))\n",
        "\n"
      ],
      "execution_count": 0,
      "outputs": [
        {
          "output_type": "stream",
          "text": [
            "{'directory': ['AFFAIRS', 'HOSPITAL', 'CHINA', 'LEADER', 'EDUCATION'], 'class': [0, 1, 2, 3, 4]}\n"
          ],
          "name": "stdout"
        },
        {
          "output_type": "error",
          "ename": "IndexError",
          "evalue": "ignored",
          "traceback": [
            "\u001b[0;31m---------------------------------------------------------------------------\u001b[0m",
            "\u001b[0;31mIndexError\u001b[0m                                Traceback (most recent call last)",
            "\u001b[0;32m<ipython-input-37-9d4ce403699f>\u001b[0m in \u001b[0;36m<module>\u001b[0;34m()\u001b[0m\n\u001b[1;32m      1\u001b[0m \u001b[0mgen\u001b[0m \u001b[0;34m=\u001b[0m \u001b[0mGenerateDataset\u001b[0m\u001b[0;34m(\u001b[0m\u001b[0;34m'/gdrive/My Drive/LibiumNet/Lipread_mp4/'\u001b[0m\u001b[0;34m,\u001b[0m \u001b[0;34m'train'\u001b[0m\u001b[0;34m)\u001b[0m\u001b[0;34m\u001b[0m\u001b[0;34m\u001b[0m\u001b[0m\n\u001b[1;32m      2\u001b[0m \u001b[0mdatasets\u001b[0m \u001b[0;34m=\u001b[0m \u001b[0mgen\u001b[0m\u001b[0;34m.\u001b[0m\u001b[0mgenerator\u001b[0m\u001b[0;34m(\u001b[0m\u001b[0;34m)\u001b[0m\u001b[0;34m\u001b[0m\u001b[0;34m\u001b[0m\u001b[0m\n\u001b[0;32m----> 3\u001b[0;31m \u001b[0mprint\u001b[0m\u001b[0;34m(\u001b[0m\u001b[0mmodel\u001b[0m\u001b[0;34m.\u001b[0m\u001b[0mmodel\u001b[0m\u001b[0;34m.\u001b[0m\u001b[0mpredict\u001b[0m\u001b[0;34m(\u001b[0m\u001b[0mnext\u001b[0m\u001b[0;34m(\u001b[0m\u001b[0mdatasets\u001b[0m\u001b[0;34m)\u001b[0m\u001b[0;34m)\u001b[0m\u001b[0;34m)\u001b[0m\u001b[0;34m\u001b[0m\u001b[0;34m\u001b[0m\u001b[0m\n\u001b[0m\u001b[1;32m      4\u001b[0m \u001b[0mprint\u001b[0m\u001b[0;34m(\u001b[0m\u001b[0mmodel\u001b[0m\u001b[0;34m.\u001b[0m\u001b[0mmodel\u001b[0m\u001b[0;34m.\u001b[0m\u001b[0mpredict\u001b[0m\u001b[0;34m(\u001b[0m\u001b[0mnext\u001b[0m\u001b[0;34m(\u001b[0m\u001b[0mdatasets\u001b[0m\u001b[0;34m)\u001b[0m\u001b[0;34m)\u001b[0m\u001b[0;34m)\u001b[0m\u001b[0;34m\u001b[0m\u001b[0;34m\u001b[0m\u001b[0m\n\u001b[1;32m      5\u001b[0m \u001b[0mprint\u001b[0m\u001b[0;34m(\u001b[0m\u001b[0mmodel\u001b[0m\u001b[0;34m.\u001b[0m\u001b[0mmodel\u001b[0m\u001b[0;34m.\u001b[0m\u001b[0mpredict\u001b[0m\u001b[0;34m(\u001b[0m\u001b[0mnext\u001b[0m\u001b[0;34m(\u001b[0m\u001b[0mdatasets\u001b[0m\u001b[0;34m)\u001b[0m\u001b[0;34m)\u001b[0m\u001b[0;34m)\u001b[0m\u001b[0;34m\u001b[0m\u001b[0;34m\u001b[0m\u001b[0m\n",
            "\u001b[0;32m<ipython-input-5-8c6e0942b595>\u001b[0m in \u001b[0;36m_generator\u001b[0;34m(self, data, directory, video_files, BATCH_SIZE)\u001b[0m\n\u001b[1;32m    151\u001b[0m                     \u001b[0my_train\u001b[0m \u001b[0;34m=\u001b[0m \u001b[0mnp\u001b[0m\u001b[0;34m.\u001b[0m\u001b[0mappend\u001b[0m\u001b[0;34m(\u001b[0m\u001b[0my_train\u001b[0m\u001b[0;34m,\u001b[0m \u001b[0;34m[\u001b[0m \u001b[0mdata\u001b[0m\u001b[0;34m.\u001b[0m\u001b[0mloc\u001b[0m\u001b[0;34m[\u001b[0m \u001b[0mdata\u001b[0m\u001b[0;34m[\u001b[0m\u001b[0;34m'directory'\u001b[0m\u001b[0;34m]\u001b[0m \u001b[0;34m==\u001b[0m \u001b[0mtrain\u001b[0m\u001b[0;34m[\u001b[0m\u001b[0mi\u001b[0m\u001b[0;34m]\u001b[0m\u001b[0;34m.\u001b[0m\u001b[0msplit\u001b[0m\u001b[0;34m(\u001b[0m\u001b[0;34m'/'\u001b[0m\u001b[0;34m)\u001b[0m\u001b[0;34m[\u001b[0m\u001b[0;34m-\u001b[0m\u001b[0;36m1\u001b[0m\u001b[0;34m]\u001b[0m\u001b[0;34m.\u001b[0m\u001b[0msplit\u001b[0m\u001b[0;34m(\u001b[0m\u001b[0;34m'_'\u001b[0m\u001b[0;34m)\u001b[0m\u001b[0;34m[\u001b[0m\u001b[0;34m-\u001b[0m\u001b[0;36m2\u001b[0m\u001b[0;34m]\u001b[0m \u001b[0;34m]\u001b[0m\u001b[0;34m.\u001b[0m\u001b[0mvalues\u001b[0m\u001b[0;34m[\u001b[0m\u001b[0;36m0\u001b[0m\u001b[0;34m]\u001b[0m\u001b[0;34m[\u001b[0m\u001b[0;36m1\u001b[0m\u001b[0;34m]\u001b[0m \u001b[0;34m]\u001b[0m\u001b[0;34m)\u001b[0m\u001b[0;34m\u001b[0m\u001b[0;34m\u001b[0m\u001b[0m\n\u001b[1;32m    152\u001b[0m                     \u001b[0;31m#print(data.loc[ data['directory'] == train[i].split('/')[-1].split('_')[-2] ].values[0][1])\u001b[0m\u001b[0;34m\u001b[0m\u001b[0;34m\u001b[0m\u001b[0;34m\u001b[0m\u001b[0m\n\u001b[0;32m--> 153\u001b[0;31m                 \u001b[0my_train\u001b[0m \u001b[0;34m=\u001b[0m \u001b[0mto_categorical\u001b[0m\u001b[0;34m(\u001b[0m\u001b[0my_train\u001b[0m\u001b[0;34m,\u001b[0m \u001b[0mnum_classes\u001b[0m\u001b[0;34m=\u001b[0m\u001b[0mNUM_CLASSES\u001b[0m\u001b[0;34m)\u001b[0m\u001b[0;34m\u001b[0m\u001b[0;34m\u001b[0m\u001b[0m\n\u001b[0m\u001b[1;32m    154\u001b[0m \u001b[0;34m\u001b[0m\u001b[0m\n\u001b[1;32m    155\u001b[0m                 \u001b[0;32myield\u001b[0m\u001b[0;34m(\u001b[0m\u001b[0mx_train\u001b[0m\u001b[0;34m,\u001b[0m \u001b[0my_train\u001b[0m\u001b[0;34m)\u001b[0m\u001b[0;34m\u001b[0m\u001b[0;34m\u001b[0m\u001b[0m\n",
            "\u001b[0;32m/usr/local/lib/python3.6/dist-packages/tensorflow/python/keras/utils/np_utils.py\u001b[0m in \u001b[0;36mto_categorical\u001b[0;34m(y, num_classes, dtype)\u001b[0m\n\u001b[1;32m     47\u001b[0m   \u001b[0mn\u001b[0m \u001b[0;34m=\u001b[0m \u001b[0my\u001b[0m\u001b[0;34m.\u001b[0m\u001b[0mshape\u001b[0m\u001b[0;34m[\u001b[0m\u001b[0;36m0\u001b[0m\u001b[0;34m]\u001b[0m\u001b[0;34m\u001b[0m\u001b[0;34m\u001b[0m\u001b[0m\n\u001b[1;32m     48\u001b[0m   \u001b[0mcategorical\u001b[0m \u001b[0;34m=\u001b[0m \u001b[0mnp\u001b[0m\u001b[0;34m.\u001b[0m\u001b[0mzeros\u001b[0m\u001b[0;34m(\u001b[0m\u001b[0;34m(\u001b[0m\u001b[0mn\u001b[0m\u001b[0;34m,\u001b[0m \u001b[0mnum_classes\u001b[0m\u001b[0;34m)\u001b[0m\u001b[0;34m,\u001b[0m \u001b[0mdtype\u001b[0m\u001b[0;34m=\u001b[0m\u001b[0mdtype\u001b[0m\u001b[0;34m)\u001b[0m\u001b[0;34m\u001b[0m\u001b[0;34m\u001b[0m\u001b[0m\n\u001b[0;32m---> 49\u001b[0;31m   \u001b[0mcategorical\u001b[0m\u001b[0;34m[\u001b[0m\u001b[0mnp\u001b[0m\u001b[0;34m.\u001b[0m\u001b[0marange\u001b[0m\u001b[0;34m(\u001b[0m\u001b[0mn\u001b[0m\u001b[0;34m)\u001b[0m\u001b[0;34m,\u001b[0m \u001b[0my\u001b[0m\u001b[0;34m]\u001b[0m \u001b[0;34m=\u001b[0m \u001b[0;36m1\u001b[0m\u001b[0;34m\u001b[0m\u001b[0;34m\u001b[0m\u001b[0m\n\u001b[0m\u001b[1;32m     50\u001b[0m   \u001b[0moutput_shape\u001b[0m \u001b[0;34m=\u001b[0m \u001b[0minput_shape\u001b[0m \u001b[0;34m+\u001b[0m \u001b[0;34m(\u001b[0m\u001b[0mnum_classes\u001b[0m\u001b[0;34m,\u001b[0m\u001b[0;34m)\u001b[0m\u001b[0;34m\u001b[0m\u001b[0;34m\u001b[0m\u001b[0m\n\u001b[1;32m     51\u001b[0m   \u001b[0mcategorical\u001b[0m \u001b[0;34m=\u001b[0m \u001b[0mnp\u001b[0m\u001b[0;34m.\u001b[0m\u001b[0mreshape\u001b[0m\u001b[0;34m(\u001b[0m\u001b[0mcategorical\u001b[0m\u001b[0;34m,\u001b[0m \u001b[0moutput_shape\u001b[0m\u001b[0;34m)\u001b[0m\u001b[0;34m\u001b[0m\u001b[0;34m\u001b[0m\u001b[0m\n",
            "\u001b[0;31mIndexError\u001b[0m: index 4 is out of bounds for axis 1 with size 2"
          ]
        }
      ]
    },
    {
      "metadata": {
        "id": "c5JKapHd7xIA",
        "colab_type": "code",
        "outputId": "ad1938de-dfa7-4dfe-bfab-35e0cb2316d1",
        "colab": {
          "base_uri": "https://localhost:8080/",
          "height": 56
        }
      },
      "cell_type": "code",
      "source": [
        "model.model.save('/gdrive/My Drive/LibiumNet/libium-0.2.h5')"
      ],
      "execution_count": 0,
      "outputs": [
        {
          "output_type": "stream",
          "text": [
            "WARNING:tensorflow:TensorFlow optimizers do not make it possible to access optimizer attributes or optimizer state after instantiation. As a result, we cannot save the optimizer as part of the model save file.You will have to compile your model again after loading it. Prefer using a Keras optimizer instead (see keras.io/optimizers).\n"
          ],
          "name": "stdout"
        }
      ]
    },
    {
      "metadata": {
        "id": "jDwHTngB5sSL",
        "colab_type": "code",
        "colab": {}
      },
      "cell_type": "code",
      "source": [
        " # print(list(os.listdir('/gdrive/My Drive/LibiumNet/lipread_mp4/')))\n",
        "# print(next(datasets))"
      ],
      "execution_count": 0,
      "outputs": []
    },
    {
      "metadata": {
        "id": "tlnBkkeEADbm",
        "colab_type": "code",
        "colab": {}
      },
      "cell_type": "code",
      "source": [
        "# def create_df(file_path):\n",
        "#   '''\n",
        "#   creates pandas dataframe of labels and words directories\n",
        "#   '''\n",
        "  \n",
        "#   d = {}\n",
        "#   y_labels = []\n",
        "#   class_folders = []\n",
        "#   for ind, clss in enumerate(os.listdir(file_path)):\n",
        "#     y_labels.append(ind)\n",
        "#     class_folders.append(clss)\n",
        "  \n",
        "#   d['directory'] = class_folders\n",
        "#   d['class'] = y_labels\n",
        "  \n",
        "#   return pd.DataFrame(d)\n",
        "\n",
        "\n",
        "# def get_video_files(file_path, directory=None):\n",
        "#   '''\n",
        "#   get video files from word class directories\n",
        "#   '''\n",
        "#   d = {}\n",
        "#   f = []\n",
        "  \n",
        "#   for root, dirs, files in os.walk(file_path):\n",
        "#     if root.split('/')[-1] == directory:\n",
        "#       for file in files:\n",
        "#         if file.endswith(\".mp4\"):\n",
        "#           target_file = file.split('_')[0]\n",
        "          \n",
        "#           f.append(target_file)\n",
        "            \n",
        "            \n",
        "#           if target_file not in d:\n",
        "#             d[target_file] = []\n",
        "#           d[target_file].append(os.path.join(root, file))\n",
        "          \n",
        "#   return d\n",
        "      \n",
        "  \n",
        "  \n",
        "  \n",
        "# def load_video(filename):\n",
        "#     \"\"\"\n",
        "#     Loads the specified video using ffmpeg.\n",
        "\n",
        "#     Args:\n",
        "#         filename (str): The path to the file to load.\n",
        "#             Should be a format that ffmpeg can handle.\n",
        "\n",
        "#     Returns:\n",
        "#         List[FloatTensor]: the frames of the video as a list of 3D tensors\n",
        "#             (channels, width, height)\n",
        "#     \"\"\"\n",
        "\n",
        "#     reader = imageio.get_reader(filename,  'ffmpeg')\n",
        "        \n",
        "#     return np.array(list(reader), dtype=np.float32)\n",
        "\n",
        "  \n",
        "  \n",
        "  \n",
        "# def generator(data, directory=None, video_files=None, BATCH_SIZE=64):\n",
        "  \n",
        "#   '''\n",
        "#   retrieves the training batch for each iteration\n",
        "#   '''\n",
        "#   IMAGE_HEIGHT = 256\n",
        "#   IMAGE_WIDTH = 256\n",
        "#   IMAGE_CHANNEL = 3\n",
        "#   NUM_FRAMES = 29\n",
        "#   NUM_CLASSES = 10\n",
        "  \n",
        "  \n",
        "#   train = []\n",
        "#   for key, value in video_files.items():\n",
        "#     for file in value:\n",
        "#       train.append(file)\n",
        "  \n",
        "#   while True:\n",
        "#     # Randomize the indices to make an array\n",
        "#     indices_arr = np.random.permutation(len(train))\n",
        "    \n",
        "#     for batch in range(0, len(indices_arr), BATCH_SIZE):\n",
        "#       # slice out the current batch according to batch-size\n",
        "#       current_batch = indices_arr[batch:(batch + BATCH_SIZE)]\n",
        "\n",
        "#       # initializing the arrays, x_train and y_train\n",
        "#       x_train = np.empty([0, NUM_FRAMES, IMAGE_HEIGHT, IMAGE_WIDTH, IMAGE_CHANNEL], dtype=np.float32)\n",
        "      \n",
        "#       y_train = np.empty([0], dtype=np.int32)\n",
        "#       for i in current_batch:\n",
        "#           # get an image and its corresponding color for an traffic light\n",
        "#           video_frames = load_video(train[i])\n",
        "\n",
        "# #           Appending them to existing batch\n",
        "#           x_train = np.append(x_train, [video_frames], axis=0)\n",
        "#           y_train = np.append(y_train, [ data.loc[ data['directory'] == train[i].split('/')[-1].split('_')[-2] ].values[0][0] ])\n",
        "          \n",
        "#       y_train = to_categorical(y_train, num_classes=NUM_CLASSES)\n",
        "\n",
        "#       yield(x_train, y_train)\n",
        "    \n",
        "    "
      ],
      "execution_count": 0,
      "outputs": []
    },
    {
      "metadata": {
        "id": "HVBabzVbrOu8",
        "colab_type": "code",
        "colab": {}
      },
      "cell_type": "code",
      "source": [
        "# video_files = get_video_files('/gdrive/My Drive/LibiumNet/lipread_mp4/', directory='train')\n",
        "# data = create_df('/gdrive/My Drive/LibiumNet/lipread_mp4/')\n",
        "    \n",
        "# gen_obj = generator(data=data, directory='train', video_files=video_files)\n",
        "# t_x, t_y = next(gen_obj)\n",
        "\n",
        "# print(t_x)\n",
        "# print(t_y)"
      ],
      "execution_count": 0,
      "outputs": []
    },
    {
      "metadata": {
        "id": "FqTknnIbsY4f",
        "colab_type": "code",
        "colab": {}
      },
      "cell_type": "code",
      "source": [
        "# libium = LibiumNet(output_size=20)\n",
        "# libium.predict(tensor)"
      ],
      "execution_count": 0,
      "outputs": []
    },
    {
      "metadata": {
        "id": "efuehJPPj7-U",
        "colab_type": "code",
        "colab": {}
      },
      "cell_type": "code",
      "source": [
        "# class GenerateDataset(object):\n",
        "  \n",
        "#     def __init__(self, dataset_path):\n",
        "      \n",
        "#         self.videos = os.listdir(dataset_path)\n",
        "#         self.all_frames = []\n",
        "        \n",
        "#         for vid in self.videos:\n",
        "#             frames = load_video(vid)\n",
        "#             self.all_frames += frames\n",
        "\n",
        "#     def gen(self):\n",
        "#         for frame in self.all_frames:\n",
        "#             yield(frame)\n",
        "\n",
        "#     def get_dataset(self):\n",
        "#         ds = tf.data.Dataset.from_generator(\n",
        "#             self.gen, (tf.float32)\n",
        "#         )\n",
        "        \n",
        "#         return ds\n",
        "   \n",
        "#     def get_input(path):\n",
        "#       img = imread(path)\n",
        "#       return(img)\n",
        "    \n",
        "    \n"
      ],
      "execution_count": 0,
      "outputs": []
    },
    {
      "metadata": {
        "id": "AuC3SotRuGR9",
        "colab_type": "code",
        "colab": {}
      },
      "cell_type": "code",
      "source": [
        "class LibiumNet2(object):\n",
        "    \"\"\"TA lipreading model, `LibiunNet`\n",
        "    This is lip reading model which reads or predicts the words of a spoken mouth in a silent video. \n",
        "    This model implements the RCNN (Recurrent Convulutional Neural Network) architecture. \n",
        "\n",
        "    :param img_c: The number of channels of the input image. i.e. a frame in a video (default 3).\n",
        "    :param img_w: The width of the input image i.e. a frame in a video (default 256)\n",
        "    :param img_h: The height of the input image i.e. a frame in a video (default 256)\n",
        "    :param frames_n: The total number of frames in an input video (default 29)\n",
        "    :param output_size: The output size of the network. \n",
        "    \n",
        "    \"\"\"\n",
        "    def __init__(self, img_c=3, img_w=256, img_h=256, frames_n=29, output_size=10):\n",
        "        self.img_c = img_c\n",
        "        self.img_w = img_w\n",
        "        self.img_h = img_h\n",
        "        self.frames_n = frames_n\n",
        "        self.output_size = output_size\n",
        "        self.build()\n",
        "    \n",
        "    def build(self):\n",
        "        \"\"\"\n",
        "        Retrieves the features from the last pool layer in the densenet pretrained model \n",
        "        and pass obtained features to LSTM network. \n",
        "        \"\"\"\n",
        "        input_shape = (self.frames_n, self.img_w, self.img_h, self.img_c) # input shape\n",
        "\n",
        "\n",
        "        ## Getting the pre-trained image classifier, weights='imagenet'\n",
        "        \n",
        "        vgg = tf.keras.applications.nasnet.NASNetMobile(include_top=False, pooling='avg')\n",
        "        \n",
        "        #densenet = tf.keras.applications.densenet.DenseNet201(include_top=True, weights='imagenet')\n",
        "        #for layer in densenet.layers[:-50]:\n",
        "        #    layer.trainable = False\n",
        "\n",
        "\n",
        "        ######################\n",
        "        ## BUILDING THE MODEL\n",
        "        ######################\n",
        "        self.input_data = Input(name='the_input', shape=input_shape, dtype='float32')\n",
        "        self.image_frame_features = TimeDistributed(vgg)(self.input_data) ## extracting the features from the images\n",
        "\n",
        "        #self.drop1 = Dropout(0.3)(self.image_frame_features)\n",
        "        #self.flat = TimeDistributed(Flatten())(self.image_frame_features) ## flatten before passing on to the recurrent network\n",
        "        self.flat = Flatten()(self.image_frame_features)\n",
        "        \n",
        "        #self.norm1 = BatchNormalization()(self.flat)\n",
        "        \n",
        "        #self.sequence1 = CuDNNLSTM(16, return_sequences = True)(self.flat) \n",
        "        #self.sequence = CuDNNLSTM(16)(self.flat) \n",
        "        \n",
        "        #self.norm2 = BatchNormalization()(self.sequence)\n",
        "\n",
        "        #self.drop2 = Dropout(0.1)(self.flat)\n",
        "        \n",
        "        #self.dense7 = Dense(4096, activation='relu')(self.sequence)\n",
        "        #self.dense6 = Dense(1024, activation='relu')(self.dense7)\n",
        "        #self.dense5 = Dense(256, activation='relu')(self.dense6)\n",
        "        #self.dense4 = Dense(64, activation='relu')(self.dense5)\n",
        "        self.dense3 = Dense(16, activation='relu')(self.flat)\n",
        "        self.dense2 = Dense(4, activation='relu')(self.dense3)\n",
        "        \n",
        "#         \n",
        "        #self.dense = Dense(self.output_size, name='dense1')(self.sequence)\n",
        "        self.dense = Dense(self.output_size, name='logits')(self.dense2)\n",
        "\n",
        "        self.pred = Activation('softmax', name='softmax')(self.dense)\n",
        "\n",
        "\n",
        "        self.model = Model(inputs = self.input_data, outputs=self.pred)\n",
        "\n",
        "    def summary(self):\n",
        "        \"\"\"\"Summarizes the architecture of the model.\n",
        "        \n",
        "        :return: returns the model architecture summary\n",
        "        \"\"\"\n",
        "        return self.model.summary()\n",
        "      \n",
        "    \n",
        "    def train(self, generator,steps_per_epoch=None, epochs=1,validation_data=None, validation_steps=None, filepath=\"/gdrive/My Drive/LibiumNet/checkpoint.h5\"):\n",
        "        # Callbacks\n",
        "        early_stopping_monitor = EarlyStopping(patience=3)\n",
        "        checkpoint = ModelCheckpoint(\n",
        "                            filepath, monitor='val_acc', verbose=1, \n",
        "                            save_best_only=True, mode='max'\n",
        "                    )\n",
        "        \n",
        "        reduce_lr = ReduceLROnPlateau(\n",
        "                            monitor='val_loss', factor=0.2,\n",
        "                              patience=7, min_lr=1e-80\n",
        "                    )\n",
        "        \n",
        "        callbacks_list = [checkpoint, reduce_lr, early_stopping_monitor]\n",
        "\n",
        "        \n",
        "        print('Training...')\n",
        "        \n",
        "        self.model.compile(\n",
        "              optimizer=tf.keras.optimizers.RMSprop(1e-7),\n",
        "              loss='categorical_crossentropy',\n",
        "              metrics=['accuracy']\n",
        "        )\n",
        "        \n",
        "        history = self.model.fit_generator(generator, steps_per_epoch=steps_per_epoch, epochs=epochs, validation_data=validation_data, validation_steps = validation_steps)\n",
        "        \n",
        "        #self.visualize_accuracy(history)\n",
        "        self.visualize_loss(history)\n",
        "      \n",
        "      \n",
        "    def predict(self, input_batch):\n",
        "        \"\"\"Predicts a video\n",
        "        \n",
        "        :param input_batch: A batch of a sequence of frames. \n",
        "        :return: returns the predicted probailities\n",
        "        \"\"\"\n",
        "        return self.model(input_batch)\n",
        "      \n",
        "    def visualize_accuracy(self, history):\n",
        "      \"\"\"Visualize model accuracy\n",
        "      \"\"\"\n",
        "      plt.plot(history.history['acc'], label='training accuracy')\n",
        "      plt.plot(history.history['val_acc'], label='testing accuracy')\n",
        "      plt.title('Accuracy')\n",
        "      plt.xlabel('epochs')\n",
        "      plt.ylabel('accuracy')\n",
        "      plt.legend()\n",
        "      \n",
        "    def visualize_loss(self, history):\n",
        "      \"\"\"Visualizes model loss\"\"\"\n",
        "      plt.plot(history.history['loss'], label='training loss')\n",
        "      plt.plot(history.history['val_loss'], label='testing loss')\n",
        "      plt.title('Loss')\n",
        "      plt.xlabel('epochs')\n",
        "      plt.ylabel('loss')\n",
        "      plt.legend()"
      ],
      "execution_count": 0,
      "outputs": []
    }
  ]
}